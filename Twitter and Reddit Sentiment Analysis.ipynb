{
 "cells": [
  {
   "cell_type": "markdown",
   "id": "extended-given",
   "metadata": {
    "papermill": {
     "duration": 0.017988,
     "end_time": "2021-06-26T13:49:33.631893",
     "exception": false,
     "start_time": "2021-06-26T13:49:33.613905",
     "status": "completed"
    },
    "tags": []
   },
   "source": [
    "# Twitter and Reddit Sentiment Analysis\n",
    "\n",
    "---\n",
    "The following notebook deals with text data acquired from twitter and reddit. All these Tweets and Comments were extracted using there Respective Apis Tweepy and PRAW.\n",
    "These tweets and Comments Were Made on Narendra Modi and Other Leaders as well as Peoples Opinion Towards the Next Prime Minister of The Nation ( In Context with General Elections Held In India - 2019).\n",
    "All the Tweets and Comments From twitter and Reddit are Cleaned using Pythons re and also NLP with a Sentimental Label to each ranging from -1 to 1.   \n",
    "\n",
    "-1 -> Negative sentiment    \n",
    "0 -> Neutral sentiment    \n",
    "+1 -> Positive sentiment    \n",
    "    \n",
    "The data and more information about it can be found here: https://www.kaggle.com/cosmos98/twitter-and-reddit-sentimental-analysis-dataset    \n",
    "All credit in regards to the aquisition of the data goes to to the original author of the above post. \n",
    "\n",
    "---"
   ]
  },
  {
   "cell_type": "code",
   "execution_count": 1,
   "id": "attended-kansas",
   "metadata": {
    "execution": {
     "iopub.execute_input": "2021-06-26T13:49:33.678608Z",
     "iopub.status.busy": "2021-06-26T13:49:33.677930Z",
     "iopub.status.idle": "2021-06-26T13:49:35.446586Z",
     "shell.execute_reply": "2021-06-26T13:49:35.445910Z",
     "shell.execute_reply.started": "2021-06-26T11:55:31.868989Z"
    },
    "papermill": {
     "duration": 1.797866,
     "end_time": "2021-06-26T13:49:35.446757",
     "exception": false,
     "start_time": "2021-06-26T13:49:33.648891",
     "status": "completed"
    },
    "tags": []
   },
   "outputs": [],
   "source": [
    "#Import Statements\n",
    "import pandas as pd\n",
    "import numpy as np\n",
    "import matplotlib.pyplot as plt\n",
    "import seaborn as sns\n",
    "import spacy\n",
    "\n",
    "from xgboost import XGBClassifier\n",
    "from sklearn.svm import LinearSVC"
   ]
  },
  {
   "cell_type": "markdown",
   "id": "finished-robertson",
   "metadata": {
    "papermill": {
     "duration": 0.016556,
     "end_time": "2021-06-26T13:49:35.480587",
     "exception": false,
     "start_time": "2021-06-26T13:49:35.464031",
     "status": "completed"
    },
    "tags": []
   },
   "source": [
    "## Data Acquisition\n",
    "\n",
    "---\n",
    "The first step is gathering the data into a singular dataset. We do this by first extracting the Twitter and Reddit data from their respective .csv files and placing them into dataframes. Then, we concatinate both those dataframes into one main dataframe.   \n",
    "\n",
    "I've renamed the columns tited 'clean_comment' to 'text' to make the dataframe more intuitive and slightly easier to work with.\n",
    "\n",
    "---"
   ]
  },
  {
   "cell_type": "code",
   "execution_count": 2,
   "id": "honest-superior",
   "metadata": {
    "execution": {
     "iopub.execute_input": "2021-06-26T13:49:35.519495Z",
     "iopub.status.busy": "2021-06-26T13:49:35.518798Z",
     "iopub.status.idle": "2021-06-26T13:49:35.772264Z",
     "shell.execute_reply": "2021-06-26T13:49:35.771739Z",
     "shell.execute_reply.started": "2021-06-26T11:55:36.743555Z"
    },
    "papermill": {
     "duration": 0.275095,
     "end_time": "2021-06-26T13:49:35.772446",
     "exception": false,
     "start_time": "2021-06-26T13:49:35.497351",
     "status": "completed"
    },
    "tags": []
   },
   "outputs": [],
   "source": [
    "#Extract reddit data\n",
    "reddit_data = pd.read_csv('../input/twitter-and-reddit-sentimental-analysis-dataset/Reddit_Data.csv')\n",
    "reddit_data.rename(columns = {'clean_comment': 'text'}, inplace = True)"
   ]
  },
  {
   "cell_type": "code",
   "execution_count": 3,
   "id": "english-dispute",
   "metadata": {
    "execution": {
     "iopub.execute_input": "2021-06-26T13:49:35.811235Z",
     "iopub.status.busy": "2021-06-26T13:49:35.810528Z",
     "iopub.status.idle": "2021-06-26T13:49:36.560330Z",
     "shell.execute_reply": "2021-06-26T13:49:36.559577Z",
     "shell.execute_reply.started": "2021-06-26T11:55:37.000818Z"
    },
    "papermill": {
     "duration": 0.771052,
     "end_time": "2021-06-26T13:49:36.560502",
     "exception": false,
     "start_time": "2021-06-26T13:49:35.789450",
     "status": "completed"
    },
    "tags": []
   },
   "outputs": [],
   "source": [
    "#Extract twitter data\n",
    "twitter_data = pd.read_csv('../input/twitter-and-reddit-sentimental-analysis-dataset/Twitter_Data.csv')\n",
    "twitter_data.rename(columns = {'clean_text': 'text'}, inplace = True)"
   ]
  },
  {
   "cell_type": "code",
   "execution_count": 4,
   "id": "flying-element",
   "metadata": {
    "execution": {
     "iopub.execute_input": "2021-06-26T13:49:36.601113Z",
     "iopub.status.busy": "2021-06-26T13:49:36.600487Z",
     "iopub.status.idle": "2021-06-26T13:49:36.614119Z",
     "shell.execute_reply": "2021-06-26T13:49:36.614577Z",
     "shell.execute_reply.started": "2021-06-26T11:55:37.508816Z"
    },
    "papermill": {
     "duration": 0.037264,
     "end_time": "2021-06-26T13:49:36.614749",
     "exception": false,
     "start_time": "2021-06-26T13:49:36.577485",
     "status": "completed"
    },
    "tags": []
   },
   "outputs": [
    {
     "data": {
      "text/plain": [
       "(                                                text  category\n",
       " 0   family mormon have never tried explain them t...         1\n",
       " 1  buddhism has very much lot compatible with chr...         1\n",
       " 2  seriously don say thing first all they won get...        -1\n",
       " 3  what you have learned yours and only yours wha...         0\n",
       " 4  for your own benefit you may want read living ...         1,\n",
       "                                                 text  category\n",
       " 0  when modi promised “minimum government maximum...      -1.0\n",
       " 1  talk all the nonsense and continue all the dra...       0.0\n",
       " 2  what did just say vote for modi  welcome bjp t...       1.0\n",
       " 3  asking his supporters prefix chowkidar their n...       1.0\n",
       " 4  answer who among these the most powerful world...       1.0)"
      ]
     },
     "execution_count": 4,
     "metadata": {},
     "output_type": "execute_result"
    }
   ],
   "source": [
    "reddit_data.head(), twitter_data.head()"
   ]
  },
  {
   "cell_type": "code",
   "execution_count": 5,
   "id": "gentle-moore",
   "metadata": {
    "execution": {
     "iopub.execute_input": "2021-06-26T13:49:36.655853Z",
     "iopub.status.busy": "2021-06-26T13:49:36.654867Z",
     "iopub.status.idle": "2021-06-26T13:49:36.664129Z",
     "shell.execute_reply": "2021-06-26T13:49:36.664607Z",
     "shell.execute_reply.started": "2021-06-26T11:55:37.528632Z"
    },
    "papermill": {
     "duration": 0.032485,
     "end_time": "2021-06-26T13:49:36.664784",
     "exception": false,
     "start_time": "2021-06-26T13:49:36.632299",
     "status": "completed"
    },
    "tags": []
   },
   "outputs": [],
   "source": [
    "#Combine both dataframes into one master dataframe\n",
    "data = pd.concat([reddit_data, twitter_data], ignore_index = True)"
   ]
  },
  {
   "cell_type": "markdown",
   "id": "caroline-antibody",
   "metadata": {
    "papermill": {
     "duration": 0.016744,
     "end_time": "2021-06-26T13:49:36.698602",
     "exception": false,
     "start_time": "2021-06-26T13:49:36.681858",
     "status": "completed"
    },
    "tags": []
   },
   "source": [
    "## Data Cleaning\n",
    "\n",
    "---\n",
    "Before working with the data, we must first clean it. This includes removing all the null data. With NLP, we also need to lemmatize the data and remove stopwords and punctuations so that our model performs better. We do this as well as tokenize the data in the modelling section with the function 'data_cleaning_tokenizer'\n",
    "\n",
    "---"
   ]
  },
  {
   "cell_type": "code",
   "execution_count": 6,
   "id": "bright-million",
   "metadata": {
    "execution": {
     "iopub.execute_input": "2021-06-26T13:49:36.736209Z",
     "iopub.status.busy": "2021-06-26T13:49:36.735240Z",
     "iopub.status.idle": "2021-06-26T13:49:36.763963Z",
     "shell.execute_reply": "2021-06-26T13:49:36.764412Z",
     "shell.execute_reply.started": "2021-06-26T11:55:37.543025Z"
    },
    "papermill": {
     "duration": 0.049006,
     "end_time": "2021-06-26T13:49:36.764608",
     "exception": false,
     "start_time": "2021-06-26T13:49:36.715602",
     "status": "completed"
    },
    "tags": []
   },
   "outputs": [
    {
     "data": {
      "text/plain": [
       "text        104\n",
       "category      7\n",
       "dtype: int64"
      ]
     },
     "execution_count": 6,
     "metadata": {},
     "output_type": "execute_result"
    }
   ],
   "source": [
    "#Check for any null values\n",
    "data.isna().sum()"
   ]
  },
  {
   "cell_type": "code",
   "execution_count": 7,
   "id": "massive-nation",
   "metadata": {
    "execution": {
     "iopub.execute_input": "2021-06-26T13:49:36.803739Z",
     "iopub.status.busy": "2021-06-26T13:49:36.802784Z",
     "iopub.status.idle": "2021-06-26T13:49:36.867269Z",
     "shell.execute_reply": "2021-06-26T13:49:36.866579Z",
     "shell.execute_reply.started": "2021-06-26T11:55:37.572186Z"
    },
    "papermill": {
     "duration": 0.084823,
     "end_time": "2021-06-26T13:49:36.867411",
     "exception": false,
     "start_time": "2021-06-26T13:49:36.782588",
     "status": "completed"
    },
    "tags": []
   },
   "outputs": [],
   "source": [
    "#Drop rows with null values\n",
    "data.dropna(axis = 0, inplace = True)"
   ]
  },
  {
   "cell_type": "code",
   "execution_count": 8,
   "id": "noted-experiment",
   "metadata": {
    "execution": {
     "iopub.execute_input": "2021-06-26T13:49:36.927662Z",
     "iopub.status.busy": "2021-06-26T13:49:36.926982Z",
     "iopub.status.idle": "2021-06-26T13:49:36.935023Z",
     "shell.execute_reply": "2021-06-26T13:49:36.934456Z",
     "shell.execute_reply.started": "2021-06-26T11:55:37.625525Z"
    },
    "papermill": {
     "duration": 0.050189,
     "end_time": "2021-06-26T13:49:36.935177",
     "exception": false,
     "start_time": "2021-06-26T13:49:36.884988",
     "status": "completed"
    },
    "tags": []
   },
   "outputs": [
    {
     "data": {
      "text/plain": [
       "text        0\n",
       "category    0\n",
       "dtype: int64"
      ]
     },
     "execution_count": 8,
     "metadata": {},
     "output_type": "execute_result"
    }
   ],
   "source": [
    "#Check for any null values\n",
    "data.isna().sum()"
   ]
  },
  {
   "cell_type": "code",
   "execution_count": 9,
   "id": "critical-miller",
   "metadata": {
    "execution": {
     "iopub.execute_input": "2021-06-26T13:49:36.976522Z",
     "iopub.status.busy": "2021-06-26T13:49:36.975607Z",
     "iopub.status.idle": "2021-06-26T13:49:36.979818Z",
     "shell.execute_reply": "2021-06-26T13:49:36.979182Z",
     "shell.execute_reply.started": "2021-06-26T11:55:37.655611Z"
    },
    "papermill": {
     "duration": 0.02659,
     "end_time": "2021-06-26T13:49:36.979961",
     "exception": false,
     "start_time": "2021-06-26T13:49:36.953371",
     "status": "completed"
    },
    "tags": []
   },
   "outputs": [
    {
     "data": {
      "text/plain": [
       "(200118, 2)"
      ]
     },
     "execution_count": 9,
     "metadata": {},
     "output_type": "execute_result"
    }
   ],
   "source": [
    "#Checking the shape of the data to ensure nothing is broken\n",
    "data.shape"
   ]
  },
  {
   "cell_type": "code",
   "execution_count": 10,
   "id": "lyric-wisdom",
   "metadata": {
    "execution": {
     "iopub.execute_input": "2021-06-26T13:49:37.022212Z",
     "iopub.status.busy": "2021-06-26T13:49:37.021466Z",
     "iopub.status.idle": "2021-06-26T13:49:37.040102Z",
     "shell.execute_reply": "2021-06-26T13:49:37.039575Z",
     "shell.execute_reply.started": "2021-06-26T11:55:37.665307Z"
    },
    "papermill": {
     "duration": 0.041711,
     "end_time": "2021-06-26T13:49:37.040235",
     "exception": false,
     "start_time": "2021-06-26T13:49:36.998524",
     "status": "completed"
    },
    "tags": []
   },
   "outputs": [
    {
     "name": "stdout",
     "output_type": "stream",
     "text": [
      "Length of punctuations:\t 32 \n",
      "Length of stopwords:\t 326\n"
     ]
    }
   ],
   "source": [
    "#Getting Stopwords\n",
    "from spacy.lang.en.stop_words import STOP_WORDS\n",
    "stopwords = list(STOP_WORDS)\n",
    "\n",
    "#Getting a list of punctuations\n",
    "from string import punctuation\n",
    "punct = list(punctuation)\n",
    "\n",
    "print(\"Length of punctuations:\\t {} \\nLength of stopwords:\\t {}\".format(len(punct), len(stopwords)))"
   ]
  },
  {
   "cell_type": "markdown",
   "id": "senior-disney",
   "metadata": {
    "papermill": {
     "duration": 0.018173,
     "end_time": "2021-06-26T13:49:37.076915",
     "exception": false,
     "start_time": "2021-06-26T13:49:37.058742",
     "status": "completed"
    },
    "tags": []
   },
   "source": [
    "## Data Visualization\n",
    "\n",
    "---\n",
    "In order to better understand our data, we visualize it. Our main point of interest is to note how the sentiments are distributed and weather any of the categories are skewed.\n",
    "\n",
    "Since the data isnt skewed, we can proceed normally with our classification. Note, however, that there is approximately twice as much data with positive sentiment than there is with negative sentiment. \n",
    "\n",
    "---"
   ]
  },
  {
   "cell_type": "code",
   "execution_count": 11,
   "id": "expanded-atlas",
   "metadata": {
    "execution": {
     "iopub.execute_input": "2021-06-26T13:49:37.138594Z",
     "iopub.status.busy": "2021-06-26T13:49:37.137874Z",
     "iopub.status.idle": "2021-06-26T13:49:37.444896Z",
     "shell.execute_reply": "2021-06-26T13:49:37.445456Z",
     "shell.execute_reply.started": "2021-06-26T11:55:37.68874Z"
    },
    "papermill": {
     "duration": 0.349724,
     "end_time": "2021-06-26T13:49:37.445646",
     "exception": false,
     "start_time": "2021-06-26T13:49:37.095922",
     "status": "completed"
    },
    "tags": []
   },
   "outputs": [
    {
     "data": {
      "image/png": "[encoded data removed]",
      "text/plain": [
       "<Figure size 720x720 with 1 Axes>"
      ]
     },
     "metadata": {},
     "output_type": "display_data"
    }
   ],
   "source": [
    "fig , ax = plt.subplots(figsize = (10,10))\n",
    "ax = data['category'].value_counts().plot(kind = 'bar')\n",
    "\n",
    "plt.xticks(rotation = 0, size = 14)\n",
    "plt.yticks(size = 14, color = 'white')\n",
    "plt.title('Distribution of Sentiment', size = 20)\n",
    "\n",
    "ax.annotate(text = data['category'].value_counts().values[0], xy = (-0.13,88079), size = 18)\n",
    "ax.annotate(text = data['category'].value_counts().values[1], xy = (0.87,68253), size = 18)\n",
    "ax.annotate(text = data['category'].value_counts().values[2], xy = (1.87,43786), size = 18)\n",
    "\n",
    "plt.show()"
   ]
  },
  {
   "cell_type": "markdown",
   "id": "satisfied-panama",
   "metadata": {
    "papermill": {
     "duration": 0.018871,
     "end_time": "2021-06-26T13:49:37.484377",
     "exception": false,
     "start_time": "2021-06-26T13:49:37.465506",
     "status": "completed"
    },
    "tags": []
   },
   "source": [
    "## Modelling: TF-IDF and LinearSVM\n",
    "\n",
    "---\n",
    "In addition to tokenizing our data, the function 'data_cleaning_tokenizer' also removes stop words, converts all the data to lower and lemmatizes all the data.    \n",
    "\n",
    "The vectorization of our data is done in the TF-IDF format through TfidfVectorizer().    \n",
    "\n",
    "After our data is vectorized, it is read to be used in a model. We use LinearSVM in this case beacuse of its effectiveness and ease of implementation. \n",
    "\n",
    "---"
   ]
  },
  {
   "cell_type": "code",
   "execution_count": 12,
   "id": "impaired-banana",
   "metadata": {
    "execution": {
     "iopub.execute_input": "2021-06-26T13:49:37.527389Z",
     "iopub.status.busy": "2021-06-26T13:49:37.526713Z",
     "iopub.status.idle": "2021-06-26T13:49:38.684070Z",
     "shell.execute_reply": "2021-06-26T13:49:38.683403Z",
     "shell.execute_reply.started": "2021-06-26T11:55:37.873535Z"
    },
    "papermill": {
     "duration": 1.18051,
     "end_time": "2021-06-26T13:49:38.684211",
     "exception": false,
     "start_time": "2021-06-26T13:49:37.503701",
     "status": "completed"
    },
    "tags": []
   },
   "outputs": [],
   "source": [
    "#Load spacy model\n",
    "nlp = spacy.load('en_core_web_sm')"
   ]
  },
  {
   "cell_type": "code",
   "execution_count": 13,
   "id": "embedded-creator",
   "metadata": {
    "execution": {
     "iopub.execute_input": "2021-06-26T13:49:38.728550Z",
     "iopub.status.busy": "2021-06-26T13:49:38.727911Z",
     "iopub.status.idle": "2021-06-26T13:49:38.729756Z",
     "shell.execute_reply": "2021-06-26T13:49:38.730279Z",
     "shell.execute_reply.started": "2021-06-26T11:55:38.851485Z"
    },
    "papermill": {
     "duration": 0.02668,
     "end_time": "2021-06-26T13:49:38.730459",
     "exception": false,
     "start_time": "2021-06-26T13:49:38.703779",
     "status": "completed"
    },
    "tags": []
   },
   "outputs": [],
   "source": [
    "#Define function to find and drop blank entries in dataframe\n",
    "def drop_blank(dataframe, column):\n",
    "    blank_index = dataframe[dataframe[column] == ''].index\n",
    "    dataframe.drop(blank_index, inplace = True)\n",
    "    dataframe.reset_index(inplace = True, drop = True)\n",
    "    \n",
    "    return dataframe"
   ]
  },
  {
   "cell_type": "code",
   "execution_count": 14,
   "id": "unknown-victory",
   "metadata": {
    "execution": {
     "iopub.execute_input": "2021-06-26T13:49:38.772971Z",
     "iopub.status.busy": "2021-06-26T13:49:38.772289Z",
     "iopub.status.idle": "2021-06-26T13:49:38.778646Z",
     "shell.execute_reply": "2021-06-26T13:49:38.779187Z",
     "shell.execute_reply.started": "2021-06-26T11:55:38.861282Z"
    },
    "papermill": {
     "duration": 0.029467,
     "end_time": "2021-06-26T13:49:38.779367",
     "exception": false,
     "start_time": "2021-06-26T13:49:38.749900",
     "status": "completed"
    },
    "tags": []
   },
   "outputs": [],
   "source": [
    "def data_cleaning_tokenizer(sentence):\n",
    "    \"\"\"\n",
    "    This function cleans up a sentence. It first tokenizes it, removes stopewords, and then performs lemmatization on the sentence. \n",
    "    The function returns a list of tokenized words so that it can be converted into a doc vector directly. \n",
    "    \"\"\"\n",
    "    \n",
    "    doc = nlp(sentence)\n",
    "    tokens = []\n",
    "    \n",
    "    #Creates a list of lemmatized tokens\n",
    "    for token in doc:\n",
    "        try:\n",
    "            temp = token.lemma_.lower().strip()\n",
    "            \n",
    "        except:\n",
    "            temp = token.lower_\n",
    "            \n",
    "        tokens.append(temp)\n",
    "        \n",
    "    cleaned_tokens = []\n",
    "    \n",
    "    #Removes stopwords and punctuations\n",
    "    for token in tokens:\n",
    "        if token not in stopwords and token not in punct:\n",
    "            cleaned_tokens.append(token)\n",
    "        \n",
    "    #cleaned_tokens = \" \".join(cleaned_tokens)\n",
    "    \n",
    "    return cleaned_tokens"
   ]
  },
  {
   "cell_type": "code",
   "execution_count": 15,
   "id": "guided-hampshire",
   "metadata": {
    "execution": {
     "iopub.execute_input": "2021-06-26T13:49:38.821137Z",
     "iopub.status.busy": "2021-06-26T13:49:38.820502Z",
     "iopub.status.idle": "2021-06-26T14:23:29.689816Z",
     "shell.execute_reply": "2021-06-26T14:23:29.689083Z",
     "shell.execute_reply.started": "2021-06-26T11:55:38.871666Z"
    },
    "papermill": {
     "duration": 2030.891124,
     "end_time": "2021-06-26T14:23:29.689984",
     "exception": false,
     "start_time": "2021-06-26T13:49:38.798860",
     "status": "completed"
    },
    "tags": []
   },
   "outputs": [],
   "source": [
    "#Getting X and y\n",
    "from sklearn.feature_extraction.text import TfidfVectorizer\n",
    "\n",
    "vectorizer = TfidfVectorizer(tokenizer=data_cleaning_tokenizer)\n",
    "X = vectorizer.fit_transform(data['text'])\n",
    "y = data.category\n",
    "\n",
    "#Splitting the data into training and testing\n",
    "from sklearn.model_selection import train_test_split\n",
    "\n",
    "X_train, X_test, y_train, y_test = train_test_split(X, y,\n",
    "                                                    test_size=0.1)"
   ]
  },
  {
   "cell_type": "code",
   "execution_count": 16,
   "id": "floral-blocking",
   "metadata": {
    "execution": {
     "iopub.execute_input": "2021-06-26T14:23:29.734325Z",
     "iopub.status.busy": "2021-06-26T14:23:29.733643Z",
     "iopub.status.idle": "2021-06-26T14:23:37.733699Z",
     "shell.execute_reply": "2021-06-26T14:23:37.733077Z",
     "shell.execute_reply.started": "2021-06-26T12:22:37.084957Z"
    },
    "papermill": {
     "duration": 8.023715,
     "end_time": "2021-06-26T14:23:37.733832",
     "exception": false,
     "start_time": "2021-06-26T14:23:29.710117",
     "status": "completed"
    },
    "tags": []
   },
   "outputs": [
    {
     "name": "stdout",
     "output_type": "stream",
     "text": [
      "Accuracy: 81.881%\n"
     ]
    }
   ],
   "source": [
    "#Creating, fitting and scoring classifier\n",
    "classifier = LinearSVC()\n",
    "classifier.fit(X_train, y_train)\n",
    "print(f\"Accuracy: {classifier.score(X_test, y_test) * 100:.3f}%\", )"
   ]
  },
  {
   "cell_type": "markdown",
   "id": "sophisticated-annex",
   "metadata": {
    "papermill": {
     "duration": 0.020023,
     "end_time": "2021-06-26T14:23:37.773489",
     "exception": false,
     "start_time": "2021-06-26T14:23:37.753466",
     "status": "completed"
    },
    "tags": []
   },
   "source": [
    "---\n",
    "\n",
    "We achieved 81% accuracy on our model. This is not bad, but it can be imporoved upon. The most efficient way to imporove our accuracy would be to implement an LSTM model. Neural networks often achieve over 90% on datasets like these.\n",
    "\n",
    "References:    \n",
    "- https://www.kaggle.com/kritanjalijain/twitter-sentiment-analysis-lstm\n",
    "- https://www.youtube.com/watch?v=cd51nXNpiiU\n",
    "\n",
    "Thankyou for going through my notebook! Please comment if you have any questions or suggestions!\n",
    "\n",
    "---"
   ]
  }
 ],
 "metadata": {
  "kernelspec": {
   "display_name": "Python 3",
   "language": "python",
   "name": "python3"
  },
  "language_info": {
   "codemirror_mode": {
    "name": "ipython",
    "version": 3
   },
   "file_extension": ".py",
   "mimetype": "text/x-python",
   "name": "python",
   "nbconvert_exporter": "python",
   "pygments_lexer": "ipython3",
   "version": "3.7.10"
  },
  "papermill": {
   "default_parameters": {},
   "duration": 2053.379162,
   "end_time": "2021-06-26T14:23:38.704140",
   "environment_variables": {},
   "exception": null,
   "input_path": "__notebook__.ipynb",
   "output_path": "__notebook__.ipynb",
   "parameters": {},
   "start_time": "2021-06-26T13:49:25.324978",
   "version": "2.3.3"
  }
 },
 "nbformat": 4,
 "nbformat_minor": 5
}
