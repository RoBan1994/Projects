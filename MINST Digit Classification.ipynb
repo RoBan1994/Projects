{
 "cells": [
  {
   "cell_type": "markdown",
   "id": "reported-survey",
   "metadata": {
    "papermill": {
     "duration": 0.011279,
     "end_time": "2021-06-07T11:26:13.303281",
     "exception": false,
     "start_time": "2021-06-07T11:26:13.292002",
     "status": "completed"
    },
    "tags": []
   },
   "source": [
    "# MINST Digit Classification\n",
    "---\n",
    "\n",
    "Rohit Baney    \n",
    "7th June 2021\n",
    "\n",
    "---\n",
    "\n",
    "The MINST dataset is known as the 'hello world' of computer vision datasets. \n",
    "\n",
    "The following Deep Neural Network is my attempt at Digit Classification using a Convolutional Neural Network (CNN).\n",
    "\n",
    "The goal of this project is to successfully classify images of handwritten digits using a neural network. \n",
    "\n",
    "More information about the dataset can be found here: https://www.kaggle.com/scolianni/mnistasjpg\n",
    "\n",
    "---"
   ]
  },
  {
   "cell_type": "code",
   "execution_count": 1,
   "id": "toxic-assignment",
   "metadata": {
    "execution": {
     "iopub.execute_input": "2021-06-07T11:26:13.328828Z",
     "iopub.status.busy": "2021-06-07T11:26:13.327288Z",
     "iopub.status.idle": "2021-06-07T11:26:18.810356Z",
     "shell.execute_reply": "2021-06-07T11:26:18.809358Z",
     "shell.execute_reply.started": "2021-06-07T11:06:30.7204Z"
    },
    "papermill": {
     "duration": 5.496887,
     "end_time": "2021-06-07T11:26:18.810531",
     "exception": false,
     "start_time": "2021-06-07T11:26:13.313644",
     "status": "completed"
    },
    "tags": []
   },
   "outputs": [],
   "source": [
    "#Import Statements\n",
    "import pandas as pd\n",
    "import numpy as np\n",
    "import matplotlib.pyplot as plt\n",
    "\n",
    "\n",
    "import tensorflow as tf\n",
    "import tensorflow.keras as keras\n",
    "from tensorflow.keras.models import  Sequential\n",
    "from tensorflow.keras import layers \n",
    "from keras.utils.np_utils import to_categorical\n",
    "from tensorflow.keras.callbacks import EarlyStopping\n",
    "from keras.callbacks import ReduceLROnPlateau\n",
    "\n",
    "from keras.preprocessing.image import ImageDataGenerator\n",
    "from sklearn.model_selection import train_test_split\n",
    "\n",
    "import seaborn as sns"
   ]
  },
  {
   "cell_type": "code",
   "execution_count": 2,
   "id": "dying-department",
   "metadata": {
    "execution": {
     "iopub.execute_input": "2021-06-07T11:26:18.836953Z",
     "iopub.status.busy": "2021-06-07T11:26:18.836273Z",
     "iopub.status.idle": "2021-06-07T11:26:24.416126Z",
     "shell.execute_reply": "2021-06-07T11:26:24.415298Z",
     "shell.execute_reply.started": "2021-06-07T11:06:36.10804Z"
    },
    "papermill": {
     "duration": 5.595375,
     "end_time": "2021-06-07T11:26:24.416274",
     "exception": false,
     "start_time": "2021-06-07T11:26:18.820899",
     "status": "completed"
    },
    "tags": []
   },
   "outputs": [
    {
     "data": {
      "text/plain": [
       "((42000, 785), (28000, 784))"
      ]
     },
     "execution_count": 2,
     "metadata": {},
     "output_type": "execute_result"
    }
   ],
   "source": [
    "#Importing data\n",
    "train = pd.read_csv('../input/digit-recognizer/train.csv')\n",
    "test = pd.read_csv('../input/digit-recognizer/test.csv')\n",
    "\n",
    "train.shape, test.shape"
   ]
  },
  {
   "cell_type": "code",
   "execution_count": 3,
   "id": "banner-genius",
   "metadata": {
    "execution": {
     "iopub.execute_input": "2021-06-07T11:26:24.443001Z",
     "iopub.status.busy": "2021-06-07T11:26:24.442401Z",
     "iopub.status.idle": "2021-06-07T11:26:24.550695Z",
     "shell.execute_reply": "2021-06-07T11:26:24.550200Z",
     "shell.execute_reply.started": "2021-06-07T11:06:40.872087Z"
    },
    "papermill": {
     "duration": 0.123628,
     "end_time": "2021-06-07T11:26:24.550824",
     "exception": false,
     "start_time": "2021-06-07T11:26:24.427196",
     "status": "completed"
    },
    "tags": []
   },
   "outputs": [],
   "source": [
    "#Creating Train and Test arays\n",
    "y = train.iloc[:,0].values.astype('int32') #Extracting values in order to store data as array\n",
    "X = train.iloc[:,1:].values.astype('float32')\n",
    "X_test = test.values.astype('float32')"
   ]
  },
  {
   "cell_type": "markdown",
   "id": "perfect-china",
   "metadata": {
    "papermill": {
     "duration": 0.010433,
     "end_time": "2021-06-07T11:26:24.572432",
     "exception": false,
     "start_time": "2021-06-07T11:26:24.561999",
     "status": "completed"
    },
    "tags": []
   },
   "source": [
    "## Data Prep\n",
    "\n",
    "---\n",
    "\n",
    "After extracting the data and storing them as arrays, we need to reshape the data so that it can be fed into a CNN. \n",
    "\n",
    "We reshape the data in the form (example_number, height, width, channel)\n",
    "\n",
    "Height and width can be derived by taking the square root of the number of columns in the dataset. That is to say, that since each row in the dataset contains data for a single image, then the number of columns is the total number of pixels in the image. In our example, we have 784 columns in each row, i.e. 784 pixels per image. In a square format (which is the format the images are in) this comes to images of the size 28x28 (sqrt(784) == 28).\n",
    "\n",
    "Additionally, for X_train and X_test, we divide the data by 255 in order to constain it between 0 and 1. We choose 255 because in an image, this number represents the maximum value for a pixel's intensity. 0 represents a white pixel and 1 represents a black one. Numbers in between represent various shades of grey. \n",
    "\n",
    "For y_train, we onehot encode the data using the handy 'to_categorical' function from keras.utils.np_utils.\n",
    "\n",
    "---"
   ]
  },
  {
   "cell_type": "code",
   "execution_count": 4,
   "id": "orange-glass",
   "metadata": {
    "execution": {
     "iopub.execute_input": "2021-06-07T11:26:24.598364Z",
     "iopub.status.busy": "2021-06-07T11:26:24.597186Z",
     "iopub.status.idle": "2021-06-07T11:26:24.670521Z",
     "shell.execute_reply": "2021-06-07T11:26:24.671009Z",
     "shell.execute_reply.started": "2021-06-07T11:06:40.978407Z"
    },
    "papermill": {
     "duration": 0.088369,
     "end_time": "2021-06-07T11:26:24.671169",
     "exception": false,
     "start_time": "2021-06-07T11:26:24.582800",
     "status": "completed"
    },
    "tags": []
   },
   "outputs": [
    {
     "data": {
      "text/plain": [
       "array([[0., 1., 0., ..., 0., 0., 0.],\n",
       "       [1., 0., 0., ..., 0., 0., 0.],\n",
       "       [0., 1., 0., ..., 0., 0., 0.],\n",
       "       ...,\n",
       "       [0., 0., 0., ..., 1., 0., 0.],\n",
       "       [0., 0., 0., ..., 0., 0., 0.],\n",
       "       [0., 0., 0., ..., 0., 0., 1.]], dtype=float32)"
      ]
     },
     "execution_count": 4,
     "metadata": {},
     "output_type": "execute_result"
    }
   ],
   "source": [
    "#Constraining data between 0 and 1\n",
    "X = X / 255.0\n",
    "X_test = X_test / 255.0\n",
    "\n",
    "#Reshaping data in the form (example, width, height, channel)\n",
    "X = X.reshape(-1,28,28,1)\n",
    "X_test = X_test.reshape(-1,28,28,1)\n",
    "\n",
    "#Converting y using onehot encoding\n",
    "y = to_categorical(y)\n",
    "y"
   ]
  },
  {
   "cell_type": "markdown",
   "id": "fourth-party",
   "metadata": {
    "papermill": {
     "duration": 0.010953,
     "end_time": "2021-06-07T11:26:24.693584",
     "exception": false,
     "start_time": "2021-06-07T11:26:24.682631",
     "status": "completed"
    },
    "tags": []
   },
   "source": [
    "---\n",
    "After restructuring the data, we now split our data into train and test sets. Upon doing so, we can then construct a generator for both the training and testing data that feeds our model with batches of our data for training. \n",
    "\n",
    "Additionally, we'll augment the data using ImageDataGenerator.\n",
    "\n",
    "---"
   ]
  },
  {
   "cell_type": "code",
   "execution_count": 5,
   "id": "indie-disability",
   "metadata": {
    "execution": {
     "iopub.execute_input": "2021-06-07T11:26:24.720723Z",
     "iopub.status.busy": "2021-06-07T11:26:24.720067Z",
     "iopub.status.idle": "2021-06-07T11:26:25.029385Z",
     "shell.execute_reply": "2021-06-07T11:26:25.028851Z",
     "shell.execute_reply.started": "2021-06-07T11:06:41.058826Z"
    },
    "papermill": {
     "duration": 0.324868,
     "end_time": "2021-06-07T11:26:25.029529",
     "exception": false,
     "start_time": "2021-06-07T11:26:24.704661",
     "status": "completed"
    },
    "tags": []
   },
   "outputs": [],
   "source": [
    "#Split data into train and validation sets\n",
    "X_train, X_val, y_train, y_val = train_test_split(X, y, test_size=0.2)\n",
    "\n",
    "#Instantiate generator and data augmentation\n",
    "generator = ImageDataGenerator(rotation_range=8, \n",
    "                               width_shift_range=0.08, \n",
    "                               shear_range=0.3,\n",
    "                               height_shift_range=0.08, \n",
    "                               zoom_range=0.08\n",
    "                              )\n",
    "\n",
    "#Create batch generators for train and validation sets\n",
    "train_batches = generator.flow(X_train, y_train, \n",
    "                               batch_size = 64)\n",
    "\n",
    "val_batches = generator.flow(X_val, y_val, \n",
    "                             batch_size = 64)"
   ]
  },
  {
   "cell_type": "markdown",
   "id": "coupled-mystery",
   "metadata": {
    "papermill": {
     "duration": 0.010798,
     "end_time": "2021-06-07T11:26:25.051428",
     "exception": false,
     "start_time": "2021-06-07T11:26:25.040630",
     "status": "completed"
    },
    "tags": []
   },
   "source": [
    "## Model Creation\n",
    "\n",
    "---\n",
    "THe model we are going to use is an optimized CNN along with learning rate decay and early stopping. The architecture of the model can be found on this notebook: https://www.kaggle.com/sajaldeb25/kaggle-digit-recognizer-my-best-model-cnn-999. All credits to the author of that notebook for figuring out optimal parameters. \n",
    "\n",
    "Note to beginners:    \n",
    "I was confused at first between the difference between using .fit and .fit_generator. The difference is that the latter is used when the dataset is extremely large. It divides the dataset into batches to be used by the model and only stores the data being used by the current batch to memory. This enables us to work with extremely large datasets with limited amounts of memory. \n",
    "\n",
    "---"
   ]
  },
  {
   "cell_type": "code",
   "execution_count": 6,
   "id": "sealed-cancer",
   "metadata": {
    "execution": {
     "iopub.execute_input": "2021-06-07T11:26:25.077872Z",
     "iopub.status.busy": "2021-06-07T11:26:25.077355Z",
     "iopub.status.idle": "2021-06-07T11:26:25.081492Z",
     "shell.execute_reply": "2021-06-07T11:26:25.081079Z",
     "shell.execute_reply.started": "2021-06-07T11:06:41.372129Z"
    },
    "papermill": {
     "duration": 0.019283,
     "end_time": "2021-06-07T11:26:25.081601",
     "exception": false,
     "start_time": "2021-06-07T11:26:25.062318",
     "status": "completed"
    },
    "tags": []
   },
   "outputs": [],
   "source": [
    "#Callbacks\n",
    "#Early Stopping \n",
    "early_stopping = EarlyStopping(min_delta=0.001, \n",
    "                               patience=10, \n",
    "                               restore_best_weights=True) #Use this if you don't have a GPU\n",
    "\n",
    "#Learning Rate Reduction\n",
    "learning_rate_reduction = ReduceLROnPlateau(monitor='val_accuracy', \n",
    "                                            patience=3, \n",
    "                                            verbose=1, \n",
    "                                            factor=0.5, \n",
    "                                            min_lr=0.00001)\n"
   ]
  },
  {
   "cell_type": "code",
   "execution_count": 7,
   "id": "functional-ireland",
   "metadata": {
    "execution": {
     "iopub.execute_input": "2021-06-07T11:26:25.113569Z",
     "iopub.status.busy": "2021-06-07T11:26:25.112335Z",
     "iopub.status.idle": "2021-06-07T11:48:58.355551Z",
     "shell.execute_reply": "2021-06-07T11:48:58.356004Z",
     "shell.execute_reply.started": "2021-06-07T11:06:41.379239Z"
    },
    "papermill": {
     "duration": 1353.264015,
     "end_time": "2021-06-07T11:48:58.356168",
     "exception": false,
     "start_time": "2021-06-07T11:26:25.092153",
     "status": "completed"
    },
    "tags": []
   },
   "outputs": [
    {
     "name": "stderr",
     "output_type": "stream",
     "text": [
      "/opt/conda/lib/python3.7/site-packages/tensorflow/python/keras/engine/training.py:1844: UserWarning: `Model.fit_generator` is deprecated and will be removed in a future version. Please use `Model.fit`, which supports generators.\n",
      "  warnings.warn('`Model.fit_generator` is deprecated and '\n"
     ]
    },
    {
     "name": "stdout",
     "output_type": "stream",
     "text": [
      "Epoch 1/50\n",
      "525/525 [==============================] - 33s 52ms/step - loss: 0.5172 - accuracy: 0.8346 - val_loss: 0.1732 - val_accuracy: 0.9488\n",
      "Epoch 2/50\n",
      "525/525 [==============================] - 26s 50ms/step - loss: 0.0878 - accuracy: 0.9735 - val_loss: 0.0538 - val_accuracy: 0.9841\n",
      "Epoch 3/50\n",
      "525/525 [==============================] - 27s 51ms/step - loss: 0.0615 - accuracy: 0.9804 - val_loss: 0.0596 - val_accuracy: 0.9841\n",
      "Epoch 4/50\n",
      "525/525 [==============================] - 27s 51ms/step - loss: 0.0477 - accuracy: 0.9862 - val_loss: 0.0557 - val_accuracy: 0.9845\n",
      "Epoch 5/50\n",
      "525/525 [==============================] - 27s 51ms/step - loss: 0.0480 - accuracy: 0.9850 - val_loss: 0.0467 - val_accuracy: 0.9887\n",
      "Epoch 6/50\n",
      "525/525 [==============================] - 27s 51ms/step - loss: 0.0419 - accuracy: 0.9872 - val_loss: 0.0443 - val_accuracy: 0.9884\n",
      "Epoch 7/50\n",
      "525/525 [==============================] - 27s 51ms/step - loss: 0.0364 - accuracy: 0.9883 - val_loss: 0.0309 - val_accuracy: 0.9912\n",
      "Epoch 8/50\n",
      "525/525 [==============================] - 27s 51ms/step - loss: 0.0343 - accuracy: 0.9895 - val_loss: 0.0379 - val_accuracy: 0.9902\n",
      "Epoch 9/50\n",
      "525/525 [==============================] - 27s 51ms/step - loss: 0.0327 - accuracy: 0.9910 - val_loss: 0.0335 - val_accuracy: 0.9897\n",
      "Epoch 10/50\n",
      "525/525 [==============================] - 27s 51ms/step - loss: 0.0272 - accuracy: 0.9915 - val_loss: 0.0356 - val_accuracy: 0.9917\n",
      "Epoch 11/50\n",
      "525/525 [==============================] - 27s 51ms/step - loss: 0.0250 - accuracy: 0.9922 - val_loss: 0.0320 - val_accuracy: 0.9914\n",
      "Epoch 12/50\n",
      "525/525 [==============================] - 27s 51ms/step - loss: 0.0268 - accuracy: 0.9918 - val_loss: 0.0432 - val_accuracy: 0.9886\n",
      "Epoch 13/50\n",
      "525/525 [==============================] - 27s 51ms/step - loss: 0.0274 - accuracy: 0.9917 - val_loss: 0.0205 - val_accuracy: 0.9945\n",
      "Epoch 14/50\n",
      "525/525 [==============================] - 27s 52ms/step - loss: 0.0253 - accuracy: 0.9927 - val_loss: 0.0309 - val_accuracy: 0.9925\n",
      "Epoch 15/50\n",
      "525/525 [==============================] - 27s 51ms/step - loss: 0.0251 - accuracy: 0.9928 - val_loss: 0.0341 - val_accuracy: 0.9911\n",
      "Epoch 16/50\n",
      "525/525 [==============================] - 27s 51ms/step - loss: 0.0241 - accuracy: 0.9923 - val_loss: 0.0298 - val_accuracy: 0.9908\n",
      "\n",
      "Epoch 00016: ReduceLROnPlateau reducing learning rate to 0.0005000000237487257.\n",
      "Epoch 17/50\n",
      "525/525 [==============================] - 27s 51ms/step - loss: 0.0198 - accuracy: 0.9939 - val_loss: 0.0209 - val_accuracy: 0.9944\n",
      "Epoch 18/50\n",
      "525/525 [==============================] - 27s 52ms/step - loss: 0.0169 - accuracy: 0.9949 - val_loss: 0.0224 - val_accuracy: 0.9944\n",
      "Epoch 19/50\n",
      "525/525 [==============================] - 27s 51ms/step - loss: 0.0164 - accuracy: 0.9947 - val_loss: 0.0210 - val_accuracy: 0.9950\n",
      "Epoch 20/50\n",
      "525/525 [==============================] - 27s 52ms/step - loss: 0.0157 - accuracy: 0.9956 - val_loss: 0.0245 - val_accuracy: 0.9945\n",
      "Epoch 21/50\n",
      "525/525 [==============================] - 27s 51ms/step - loss: 0.0163 - accuracy: 0.9954 - val_loss: 0.0218 - val_accuracy: 0.9952\n",
      "Epoch 22/50\n",
      "525/525 [==============================] - 27s 52ms/step - loss: 0.0161 - accuracy: 0.9950 - val_loss: 0.0285 - val_accuracy: 0.9941\n",
      "Epoch 23/50\n",
      "525/525 [==============================] - 27s 52ms/step - loss: 0.0132 - accuracy: 0.9961 - val_loss: 0.0243 - val_accuracy: 0.9945\n",
      "Epoch 24/50\n",
      "525/525 [==============================] - 27s 51ms/step - loss: 0.0118 - accuracy: 0.9965 - val_loss: 0.0280 - val_accuracy: 0.9937\n",
      "\n",
      "Epoch 00024: ReduceLROnPlateau reducing learning rate to 0.0002500000118743628.\n",
      "Epoch 25/50\n",
      "525/525 [==============================] - 27s 51ms/step - loss: 0.0103 - accuracy: 0.9972 - val_loss: 0.0253 - val_accuracy: 0.9944\n",
      "Epoch 26/50\n",
      "525/525 [==============================] - 27s 51ms/step - loss: 0.0120 - accuracy: 0.9965 - val_loss: 0.0249 - val_accuracy: 0.9952\n",
      "Epoch 27/50\n",
      "525/525 [==============================] - 27s 51ms/step - loss: 0.0094 - accuracy: 0.9970 - val_loss: 0.0222 - val_accuracy: 0.9953\n",
      "Epoch 28/50\n",
      "525/525 [==============================] - 27s 51ms/step - loss: 0.0099 - accuracy: 0.9969 - val_loss: 0.0229 - val_accuracy: 0.9947\n",
      "Epoch 29/50\n",
      "525/525 [==============================] - 27s 51ms/step - loss: 0.0091 - accuracy: 0.9970 - val_loss: 0.0255 - val_accuracy: 0.9952\n",
      "Epoch 30/50\n",
      "525/525 [==============================] - 27s 51ms/step - loss: 0.0099 - accuracy: 0.9968 - val_loss: 0.0293 - val_accuracy: 0.9948\n",
      "\n",
      "Epoch 00030: ReduceLROnPlateau reducing learning rate to 0.0001250000059371814.\n",
      "Epoch 31/50\n",
      "525/525 [==============================] - 26s 50ms/step - loss: 0.0081 - accuracy: 0.9975 - val_loss: 0.0220 - val_accuracy: 0.9950\n",
      "Epoch 32/50\n",
      "525/525 [==============================] - 27s 51ms/step - loss: 0.0081 - accuracy: 0.9971 - val_loss: 0.0235 - val_accuracy: 0.9950\n",
      "Epoch 33/50\n",
      "525/525 [==============================] - 27s 51ms/step - loss: 0.0109 - accuracy: 0.9976 - val_loss: 0.0209 - val_accuracy: 0.9956\n",
      "Epoch 34/50\n",
      "525/525 [==============================] - 27s 52ms/step - loss: 0.0066 - accuracy: 0.9980 - val_loss: 0.0241 - val_accuracy: 0.9953\n",
      "Epoch 35/50\n",
      "525/525 [==============================] - 26s 50ms/step - loss: 0.0076 - accuracy: 0.9979 - val_loss: 0.0313 - val_accuracy: 0.9941\n",
      "Epoch 36/50\n",
      "525/525 [==============================] - 27s 51ms/step - loss: 0.0084 - accuracy: 0.9980 - val_loss: 0.0222 - val_accuracy: 0.9969\n",
      "Epoch 37/50\n",
      "525/525 [==============================] - 27s 51ms/step - loss: 0.0075 - accuracy: 0.9985 - val_loss: 0.0263 - val_accuracy: 0.9944\n",
      "Epoch 38/50\n",
      "525/525 [==============================] - 27s 52ms/step - loss: 0.0095 - accuracy: 0.9976 - val_loss: 0.0212 - val_accuracy: 0.9959\n",
      "Epoch 39/50\n",
      "525/525 [==============================] - 26s 49ms/step - loss: 0.0072 - accuracy: 0.9976 - val_loss: 0.0213 - val_accuracy: 0.9953\n",
      "\n",
      "Epoch 00039: ReduceLROnPlateau reducing learning rate to 6.25000029685907e-05.\n",
      "Epoch 40/50\n",
      "525/525 [==============================] - 27s 52ms/step - loss: 0.0072 - accuracy: 0.9974 - val_loss: 0.0248 - val_accuracy: 0.9950\n",
      "Epoch 41/50\n",
      "525/525 [==============================] - 27s 52ms/step - loss: 0.0059 - accuracy: 0.9983 - val_loss: 0.0236 - val_accuracy: 0.9961\n",
      "Epoch 42/50\n",
      "525/525 [==============================] - 27s 52ms/step - loss: 0.0079 - accuracy: 0.9976 - val_loss: 0.0237 - val_accuracy: 0.9958\n",
      "\n",
      "Epoch 00042: ReduceLROnPlateau reducing learning rate to 3.125000148429535e-05.\n",
      "Epoch 43/50\n",
      "525/525 [==============================] - 26s 50ms/step - loss: 0.0064 - accuracy: 0.9981 - val_loss: 0.0283 - val_accuracy: 0.9953\n",
      "Epoch 44/50\n",
      "525/525 [==============================] - 27s 52ms/step - loss: 0.0052 - accuracy: 0.9982 - val_loss: 0.0205 - val_accuracy: 0.9953\n",
      "Epoch 45/50\n",
      "525/525 [==============================] - 27s 51ms/step - loss: 0.0063 - accuracy: 0.9980 - val_loss: 0.0305 - val_accuracy: 0.9952\n",
      "\n",
      "Epoch 00045: ReduceLROnPlateau reducing learning rate to 1.5625000742147677e-05.\n",
      "Epoch 46/50\n",
      "525/525 [==============================] - 27s 52ms/step - loss: 0.0049 - accuracy: 0.9983 - val_loss: 0.0231 - val_accuracy: 0.9953\n",
      "Epoch 47/50\n",
      "525/525 [==============================] - 26s 50ms/step - loss: 0.0068 - accuracy: 0.9982 - val_loss: 0.0255 - val_accuracy: 0.9952\n",
      "Epoch 48/50\n",
      "525/525 [==============================] - 27s 52ms/step - loss: 0.0060 - accuracy: 0.9984 - val_loss: 0.0244 - val_accuracy: 0.9955\n",
      "\n",
      "Epoch 00048: ReduceLROnPlateau reducing learning rate to 1e-05.\n",
      "Epoch 49/50\n",
      "525/525 [==============================] - 27s 52ms/step - loss: 0.0070 - accuracy: 0.9978 - val_loss: 0.0239 - val_accuracy: 0.9959\n",
      "Epoch 50/50\n",
      "525/525 [==============================] - 27s 52ms/step - loss: 0.0061 - accuracy: 0.9978 - val_loss: 0.0141 - val_accuracy: 0.9964\n"
     ]
    }
   ],
   "source": [
    "#Model Creation\n",
    "#Model Architecture can be found here: https://www.kaggle.com/sajaldeb25/kaggle-digit-recognizer-my-best-model-cnn-999. \n",
    "#All credits for architecture to the author. A lot of time and effort went into optimization of the model and all the hyperparameters. \n",
    "\n",
    "model2 = Sequential([\n",
    "    layers.Conv2D(filters = 64, kernel_size = (5,5),padding = 'Same', activation ='relu', input_shape = (28,28,1)),\n",
    "    layers.BatchNormalization(),\n",
    "    layers.Conv2D(filters = 64, kernel_size = (5,5), padding = 'Same', activation = 'relu'),\n",
    "    layers.BatchNormalization(),\n",
    "    layers.MaxPool2D(pool_size = (2,2)),\n",
    "    layers.Dropout(0.25),\n",
    "    \n",
    "    layers.Conv2D(filters = 64, kernel_size = (3,3), padding = 'Same', activation = 'relu'),\n",
    "    layers.BatchNormalization(),\n",
    "    layers.Conv2D(filters = 64, kernel_size = (3,3), padding = 'Same', activation = 'relu'),\n",
    "    layers.BatchNormalization(),\n",
    "    layers.MaxPool2D(pool_size=(2,2), strides=(2,2)),\n",
    "    layers.Dropout(0.25),\n",
    "    \n",
    "    layers.Conv2D(filters = 64, kernel_size = (3,3), padding = 'Same', activation = 'relu'),\n",
    "    layers.BatchNormalization(),\n",
    "    layers.Dropout(0.25),\n",
    "    \n",
    "    layers.Flatten(),\n",
    "    layers.Dense(256, activation = 'relu'),\n",
    "    layers.BatchNormalization(),\n",
    "    layers.Dropout(0.25),\n",
    "    \n",
    "    layers.Dense(10, activation = 'softmax')\n",
    "])\n",
    "\n",
    "#Define Optimizer\n",
    "optimizer = tf.keras.optimizers.RMSprop(lr=0.001, rho=0.9, epsilon=1e-08, decay=0.0)\n",
    "\n",
    "\n",
    "#Compile Model\n",
    "model2.compile(optimizer = optimizer,\n",
    "             loss = 'categorical_crossentropy',\n",
    "             metrics = ['accuracy'])\n",
    "\n",
    "#Fit Model\n",
    "history = model2.fit_generator(\n",
    "    generator=train_batches, \n",
    "    steps_per_epoch=525,\n",
    "    epochs=50,  \n",
    "    validation_data=val_batches, \n",
    "    validation_steps=100,\n",
    "    callbacks = [learning_rate_reduction]\n",
    ")"
   ]
  },
  {
   "cell_type": "code",
   "execution_count": 8,
   "id": "opening-livestock",
   "metadata": {
    "execution": {
     "iopub.execute_input": "2021-06-07T11:49:05.748458Z",
     "iopub.status.busy": "2021-06-07T11:49:05.746997Z",
     "iopub.status.idle": "2021-06-07T11:49:06.091835Z",
     "shell.execute_reply": "2021-06-07T11:49:06.091429Z",
     "shell.execute_reply.started": "2021-06-07T11:13:08.024315Z"
    },
    "papermill": {
     "duration": 3.927168,
     "end_time": "2021-06-07T11:49:06.091963",
     "exception": false,
     "start_time": "2021-06-07T11:49:02.164795",
     "status": "completed"
    },
    "tags": []
   },
   "outputs": [
    {
     "data": {
      "image/png": "[encoded data removed]",
      "text/plain": [
       "<Figure size 1080x360 with 2 Axes>"
      ]
     },
     "metadata": {
      "needs_background": "light"
     },
     "output_type": "display_data"
    }
   ],
   "source": [
    "#Plotting the results\n",
    "\n",
    "plt.figure(figsize = (15,5))\n",
    "\n",
    "plt.subplot(1, 2, 1)\n",
    "plt.plot(history.history['accuracy'], label='accuracy')\n",
    "plt.plot(history.history['val_accuracy'], label='val_accuracy')\n",
    "plt.xlabel(\"Epochs\")\n",
    "plt.ylabel(\"Accuracy\")\n",
    "plt.legend(loc='lower right')\n",
    "# plt.yticks(np.linspace(0.96,0.995))\n",
    "\n",
    "plt.subplot(1, 2, 2)\n",
    "plt.plot(history.history['loss'], label='loss')\n",
    "plt.plot(history.history['val_loss'], label='val_loss')\n",
    "plt.xlabel(\"Epochs\")\n",
    "plt.ylabel(\"Loss\")\n",
    "plt.legend(loc='lower left')\n",
    "\n",
    "\n",
    "plt.tight_layout()\n",
    "plt.show()"
   ]
  },
  {
   "cell_type": "markdown",
   "id": "outstanding-collector",
   "metadata": {
    "papermill": {
     "duration": 3.820162,
     "end_time": "2021-06-07T11:49:13.492130",
     "exception": false,
     "start_time": "2021-06-07T11:49:09.671968",
     "status": "completed"
    },
    "tags": []
   },
   "source": [
    "## Creating Submission File"
   ]
  },
  {
   "cell_type": "code",
   "execution_count": 9,
   "id": "working-consistency",
   "metadata": {
    "execution": {
     "iopub.execute_input": "2021-06-07T11:49:20.776175Z",
     "iopub.status.busy": "2021-06-07T11:49:20.775420Z",
     "iopub.status.idle": "2021-06-07T11:49:36.140078Z",
     "shell.execute_reply": "2021-06-07T11:49:36.139636Z",
     "shell.execute_reply.started": "2021-06-07T11:13:08.381744Z"
    },
    "papermill": {
     "duration": 18.954936,
     "end_time": "2021-06-07T11:49:36.140208",
     "exception": false,
     "start_time": "2021-06-07T11:49:17.185272",
     "status": "completed"
    },
    "tags": []
   },
   "outputs": [
    {
     "name": "stderr",
     "output_type": "stream",
     "text": [
      "/opt/conda/lib/python3.7/site-packages/tensorflow/python/keras/engine/sequential.py:450: UserWarning: `model.predict_classes()` is deprecated and will be removed after 2021-01-01. Please use instead:* `np.argmax(model.predict(x), axis=-1)`,   if your model does multi-class classification   (e.g. if it uses a `softmax` last-layer activation).* `(model.predict(x) > 0.5).astype(\"int32\")`,   if your model does binary classification   (e.g. if it uses a `sigmoid` last-layer activation).\n",
      "  warnings.warn('`model.predict_classes()` is deprecated and '\n"
     ]
    }
   ],
   "source": [
    "#Making Predictions for test set\n",
    "predictions = model2.predict_classes(X_test)"
   ]
  },
  {
   "cell_type": "code",
   "execution_count": 10,
   "id": "considered-hands",
   "metadata": {
    "execution": {
     "iopub.execute_input": "2021-06-07T11:49:43.287576Z",
     "iopub.status.busy": "2021-06-07T11:49:43.286654Z",
     "iopub.status.idle": "2021-06-07T11:49:43.472658Z",
     "shell.execute_reply": "2021-06-07T11:49:43.471535Z",
     "shell.execute_reply.started": "2021-06-07T11:13:09.694759Z"
    },
    "papermill": {
     "duration": 3.770075,
     "end_time": "2021-06-07T11:49:43.472798",
     "exception": false,
     "start_time": "2021-06-07T11:49:39.702723",
     "status": "completed"
    },
    "tags": []
   },
   "outputs": [],
   "source": [
    "#Creating dataframe and saving it as a .csv file to submit\n",
    "submission_data = pd.DataFrame({'ImageId': range(1,28001), 'Label': predictions})\n",
    "submission_data.to_csv(\"Submission_Digit_Recognition_model2.csv\", index=False, header=True)"
   ]
  },
  {
   "cell_type": "markdown",
   "id": "changed-occasion",
   "metadata": {
    "papermill": {
     "duration": 3.530142,
     "end_time": "2021-06-07T11:49:50.806922",
     "exception": false,
     "start_time": "2021-06-07T11:49:47.276780",
     "status": "completed"
    },
    "tags": []
   },
   "source": [
    "## Conclusion\n",
    "\n",
    "The model above got me an accuracy of 0.99503.\n",
    "\n",
    "Methods to improve upon this model:\n",
    "- Use an ensemble of CNNs\n",
    "- Use data augmentation.\n",
    "- A useful tutorial for doing the above can be found here: https://www.kaggle.com/cdeotte/25-million-images-0-99757-mnist\n",
    "\n",
    "Notebooks referred to:    \n",
    "https://www.kaggle.com/poonaml/deep-neural-network-keras-way    \n",
    "https://www.kaggle.com/abhiram8/mnist-digit-classification-cnn-beginner-s-guide    \n",
    "https://www.kaggle.com/sajaldeb25/kaggle-digit-recognizer-my-best-model-cnn-999    \n",
    "https://www.kaggle.com/c/digit-recognizer/discussion/61480    \n",
    "\n",
    "I hope this notebook was helpful to you. Please comment if there are any questions or if I can help you in any way.\n",
    "\n",
    "Thank you for reading!"
   ]
  }
 ],
 "metadata": {
  "kernelspec": {
   "display_name": "Python 3",
   "language": "python",
   "name": "python3"
  },
  "language_info": {
   "codemirror_mode": {
    "name": "ipython",
    "version": 3
   },
   "file_extension": ".py",
   "mimetype": "text/x-python",
   "name": "python",
   "nbconvert_exporter": "python",
   "pygments_lexer": "ipython3",
   "version": "3.7.10"
  },
  "papermill": {
   "default_parameters": {},
   "duration": 1430.410724,
   "end_time": "2021-06-07T11:49:57.321708",
   "environment_variables": {},
   "exception": null,
   "input_path": "__notebook__.ipynb",
   "output_path": "__notebook__.ipynb",
   "parameters": {},
   "start_time": "2021-06-07T11:26:06.910984",
   "version": "2.3.3"
  }
 },
 "nbformat": 4,
 "nbformat_minor": 5
}
